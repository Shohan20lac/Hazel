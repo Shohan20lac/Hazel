{
  "nbformat": 4,
  "nbformat_minor": 0,
  "metadata": {
    "colab": {
      "name": "python1.ipynb",
      "provenance": [],
      "collapsed_sections": [],
      "authorship_tag": "ABX9TyMWCvlEG34KK14zEmmQcd0e",
      "include_colab_link": true
    },
    "kernelspec": {
      "name": "python3",
      "display_name": "Python 3"
    },
    "language_info": {
      "name": "python"
    }
  },
  "cells": [
    {
      "cell_type": "markdown",
      "metadata": {
        "id": "view-in-github",
        "colab_type": "text"
      },
      "source": [
        "<a href=\"https://colab.research.google.com/github/Shohan20lac/Hazel/blob/master/python1.ipynb\" target=\"_parent\"><img src=\"https://colab.research.google.com/assets/colab-badge.svg\" alt=\"Open In Colab\"/></a>"
      ]
    },
    {
      "cell_type": "code",
      "execution_count": 2,
      "metadata": {
        "id": "0jb9qhORabLh"
      },
      "outputs": [],
      "source": [
        "import numpy as np\n",
        "import time\n",
        "\n",
        "\n",
        "\n"
      ]
    },
    {
      "cell_type": "code",
      "source": [
        "print(\"hello\")\n",
        "\n",
        "a = np.random.rand(5000000) # makes an array of 500 random integers\n",
        "b = np.random.rand(5000000) # makes an array of 500 random integers\n",
        "\n",
        "tic=(time.time())\n",
        "c = np.dot(a,b)\n",
        "toc=(time.time())\n",
        "\n",
        "print(c)\n",
        "print( \"with vectorization: \" + str(1000*(toc-tic)) + \"ms\")\n",
        "\n",
        "tic=(time.time())\n",
        "for i in range (1,5000000):\n",
        "  c = a[i]*b[i]\n",
        "toc=(time.time())\n",
        "print( \"without vectorization: \" + str(1000*(toc-tic)) + \"ms\")\n",
        "\n",
        "\n"
      ],
      "metadata": {
        "colab": {
          "base_uri": "https://localhost:8080/"
        },
        "id": "M2qBl8CecTH4",
        "outputId": "4875ca20-0c6a-43a6-967c-696ea45cd492"
      },
      "execution_count": 4,
      "outputs": [
        {
          "output_type": "stream",
          "name": "stdout",
          "text": [
            "hello\n",
            "1250354.0316563789\n",
            "with vectorization: 14.198541641235352ms\n",
            "without vectorization: 2225.2144813537598ms\n"
          ]
        }
      ]
    },
    {
      "cell_type": "code",
      "source": [
        "# Broadcasting, transposing  demo\n",
        "# VARIATION 1\n",
        "import numpy\n",
        "\n",
        "# SITUATION\n",
        "# each column represents a food type.\n",
        "# each row represents calories from carbs, proteins and fats.\n",
        "# QUESTION\n",
        "# for each food item, calculate the percentage of carb calories.\n",
        "\n",
        "a = numpy.array(\n",
        "    [\n",
        "       [56.0, 0.0, 4.4, 68.0],\n",
        "       [1.2, 104.0, 52.0, 8.0],\n",
        "       [0.0, 100.0, 23.2, 4.2]\n",
        "    ]\n",
        ")\n",
        "\n",
        "calc = numpy.sum(a, axis=0)\n",
        "print(calc)\n",
        "\n",
        "ans = 100 * (a[0] / calc)\n",
        "print(ans)\n",
        "\n",
        "\n",
        "\n",
        "\n",
        "\n",
        "\n"
      ],
      "metadata": {
        "colab": {
          "base_uri": "https://localhost:8080/"
        },
        "id": "r0rFm7N7oqLY",
        "outputId": "a253bd60-ae6a-40d2-b458-f5b920ca2345"
      },
      "execution_count": 81,
      "outputs": [
        {
          "output_type": "stream",
          "name": "stdout",
          "text": [
            "[ 57.2 204.   79.6  80.2]\n",
            "[97.9020979   0.          5.52763819 84.78802993]\n"
          ]
        }
      ]
    },
    {
      "cell_type": "code",
      "source": [
        ""
      ],
      "metadata": {
        "id": "qwHkj-jfosYH"
      },
      "execution_count": null,
      "outputs": []
    }
  ]
}